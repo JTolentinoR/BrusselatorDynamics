{
 "cells": [
  {
   "cell_type": "code",
   "execution_count": 1,
   "id": "1c6437c5",
   "metadata": {},
   "outputs": [
    {
     "name": "stdout",
     "output_type": "stream",
     "text": [
      "importing Jupyter notebook from dynamical_system.ipynb\n"
     ]
    }
   ],
   "source": [
    "from time import sleep\n",
    "from getpass import getpass\n",
    "from itertools import product\n",
    "from tqdm.contrib.telegram import tqdm\n",
    "\n",
    "import pandas as pd\n",
    "import numpy as np\n",
    "import matplotlib.pyplot as plt\n",
    "plt.rcParams[\"text.usetex\"] = True\n",
    "\n",
    "import import_ipynb\n",
    "import dynamical_system as ds"
   ]
  },
  {
   "cell_type": "markdown",
   "id": "0a111692",
   "metadata": {},
   "source": [
    "# SIMULATION FOR FIXED PARAMETERS $\\alpha$, $\\beta$"
   ]
  },
  {
   "cell_type": "code",
   "execution_count": 16,
   "id": "09da15da",
   "metadata": {},
   "outputs": [],
   "source": [
    "steps = 10000\n",
    "sigma = 0\n",
    "alfa, beta = 2, 4\n",
    "x0, y0 = 2, 2\n",
    "model = ds.brusselator(alfa=alfa, beta=beta, sigma=sigma, X0=x0, Y0=y0, t_stop=70, k=steps)\n",
    "\n",
    "number_simulations = 1\n",
    "simulation = model.run_simulation(number_simulations)\n",
    "\n",
    "time_steps, X, Y = simulation\n",
    "model.plot_parametric(simulation)\n",
    "model.plot_concentrations(simulation)"
   ]
  },
  {
   "cell_type": "markdown",
   "id": "f217ceba-c335-4854-a6e2-ca52af9b0606",
   "metadata": {},
   "source": [
    "### zoomed simulation to the last 50 seconds"
   ]
  },
  {
   "cell_type": "code",
   "execution_count": 6,
   "id": "d4a5f66c",
   "metadata": {},
   "outputs": [],
   "source": [
    "stable_start_time = int((steps/7)*2//1)\n",
    "simulation_cut = time_steps[stable_start_time:], X[:, stable_start_time:], Y[:, stable_start_time:]\n",
    "model.plot_parametric(simulation_cut)\n",
    "model.plot_concentrations(simulation_cut)"
   ]
  },
  {
   "cell_type": "markdown",
   "id": "65f6b044",
   "metadata": {},
   "source": [
    "# SETTING PARAMETERS $\\alpha$ AND  $\\beta$\n",
    "\n",
    "#### Given $b_{\\text{crit}}=a^2+1$, it is chosen $\\beta=b_{crit}-1, b_{crit}, b_{crit}+1$ for any $\\alpha = a$.\n",
    "\n",
    "#### Also we choose a set of positive integer initial values on the square with corners $(0, 0)$ and $(5, 5)$."
   ]
  },
  {
   "cell_type": "code",
   "execution_count": 2,
   "id": "e25daf5b",
   "metadata": {},
   "outputs": [
    {
     "name": "stdout",
     "output_type": "stream",
     "text": [
      "231\n",
      "25\n"
     ]
    }
   ],
   "source": [
    "alfa = np.linspace(1, 3, 21)\n",
    "partition = np.linspace(0, 2, 11)  ## 21 ---> 11\n",
    "\n",
    "beta = []\n",
    "for a in alfa:\n",
    "    b = partition + a**2     ## a**2 + 1\n",
    "    beta.append(b)\n",
    "beta = np.array(beta)\n",
    "\n",
    "params = []\n",
    "for i in range(len(alfa)):\n",
    "    params.append(list(product([alfa[i]], beta[i])))\n",
    "    \n",
    "parameters_unpacked = np.array(params)\n",
    "parameters = np.concatenate(parameters_unpacked, axis=0)\n",
    "\n",
    "# print(parameters)\n",
    "print(len(parameters))\n",
    "\n",
    "order = 4\n",
    "mesh = np.zeros((order+1, order+1, 2))\n",
    "for i in range(order+1):\n",
    "    for j in range(order+1):\n",
    "        mesh[i, j] = np.array([i, j])\n",
    "\n",
    "initial_values = np.flip(np.concatenate(mesh), axis=1)\n",
    "\n",
    "# print(initial_values)\n",
    "print(len(initial_values))"
   ]
  },
  {
   "cell_type": "markdown",
   "id": "5e76b09f-80dc-40b6-b2e6-ad87845a4405",
   "metadata": {},
   "source": [
    "### code snippet to remove initial conditions that match with stability point\n",
    "### (still not implemented, waiting to address reconstruction precision)"
   ]
  },
  {
   "cell_type": "code",
   "execution_count": 17,
   "id": "ea9b0630-9ec0-429b-985d-dff3ae527399",
   "metadata": {},
   "outputs": [],
   "source": [
    "# counter = 0\n",
    "# for x0, y0 in initial_values:\n",
    "#     for i, j in parameters:\n",
    "#         if x0 == i and y0 == j/i:\n",
    "#             print(\"a:\" , i, \"b:\", j)\n",
    "#             print(\"x:\", x0, \"y:\", y0)\n",
    "#             print(\"\\n\")\n",
    "#             counter += 1\n",
    "# print(counter)"
   ]
  },
  {
   "cell_type": "markdown",
   "id": "2eab8fb6-210f-4eac-aa6f-730e63b097ea",
   "metadata": {},
   "source": [
    "# CONFIGURING AND STARTING SIMULATION"
   ]
  },
  {
   "cell_type": "code",
   "execution_count": 3,
   "id": "dc21344a-a0ed-4d03-acf6-28769e69da53",
   "metadata": {},
   "outputs": [],
   "source": [
    "number_simulations = 50\n",
    "steps = 10000\n",
    "\n",
    "## number of matrices per (initial value, parameter)\n",
    "number_matrices = 2000\n",
    "\n",
    "## times where correlation matrices will be taken\n",
    "start_time = int((steps/70)*20//1)\n",
    "sampled_times = np.random.choice(np.arange(start_time, steps+1), size=number_matrices, replace=False)\n",
    "\n",
    "## storage array\n",
    "correlation_matrices = np.zeros(shape=(number_matrices*len(parameters)*len(initial_values), 2, 2))\n",
    "\n",
    "## counter to add correlation matrix in the right order\n",
    "matrix_number = 0"
   ]
  },
  {
   "cell_type": "code",
   "execution_count": 4,
   "id": "641c8816-4767-4011-88af-b83b24867d12",
   "metadata": {},
   "outputs": [
    {
     "data": {
      "application/vnd.jupyter.widget-view+json": {
       "model_id": "cc88983d2eeb4365bb92fcd4aba0b47f",
       "version_major": 2,
       "version_minor": 0
      },
      "text/plain": [
       "  0%|          | 0/25 [00:00<?, ?it/s]"
      ]
     },
     "metadata": {},
     "output_type": "display_data"
    },
    {
     "data": {
      "application/vnd.jupyter.widget-view+json": {
       "model_id": "689914eab4994a3297e2f6ea7e4f186c",
       "version_major": 2,
       "version_minor": 0
      },
      "text/plain": [
       "  0%|          | 0/231 [00:00<?, ?it/s]"
      ]
     },
     "metadata": {},
     "output_type": "display_data"
    },
    {
     "data": {
      "application/vnd.jupyter.widget-view+json": {
       "model_id": "49f25850158d41d09ce4253748cf4bee",
       "version_major": 2,
       "version_minor": 0
      },
      "text/plain": [
       "  0%|          | 0/231 [00:00<?, ?it/s]"
      ]
     },
     "metadata": {},
     "output_type": "display_data"
    },
    {
     "data": {
      "application/vnd.jupyter.widget-view+json": {
       "model_id": "131dd3768281493393682314b2be3b0f",
       "version_major": 2,
       "version_minor": 0
      },
      "text/plain": [
       "  0%|          | 0/231 [00:00<?, ?it/s]"
      ]
     },
     "metadata": {},
     "output_type": "display_data"
    },
    {
     "data": {
      "application/vnd.jupyter.widget-view+json": {
       "model_id": "32257ce818f74d56a025e618f8d47c01",
       "version_major": 2,
       "version_minor": 0
      },
      "text/plain": [
       "  0%|          | 0/231 [00:00<?, ?it/s]"
      ]
     },
     "metadata": {},
     "output_type": "display_data"
    },
    {
     "data": {
      "application/vnd.jupyter.widget-view+json": {
       "model_id": "49f3f883268a4da78902b2cceb11cf6a",
       "version_major": 2,
       "version_minor": 0
      },
      "text/plain": [
       "  0%|          | 0/231 [00:00<?, ?it/s]"
      ]
     },
     "metadata": {},
     "output_type": "display_data"
    },
    {
     "data": {
      "application/vnd.jupyter.widget-view+json": {
       "model_id": "907d2437367f42d5b427537fee1ef4e6",
       "version_major": 2,
       "version_minor": 0
      },
      "text/plain": [
       "  0%|          | 0/231 [00:00<?, ?it/s]"
      ]
     },
     "metadata": {},
     "output_type": "display_data"
    },
    {
     "data": {
      "application/vnd.jupyter.widget-view+json": {
       "model_id": "f794032f021a4bf5912fd34ab4fc325d",
       "version_major": 2,
       "version_minor": 0
      },
      "text/plain": [
       "  0%|          | 0/231 [00:00<?, ?it/s]"
      ]
     },
     "metadata": {},
     "output_type": "display_data"
    },
    {
     "data": {
      "application/vnd.jupyter.widget-view+json": {
       "model_id": "afb7cc78bf4348bdad8175b4a3437c1c",
       "version_major": 2,
       "version_minor": 0
      },
      "text/plain": [
       "  0%|          | 0/231 [00:00<?, ?it/s]"
      ]
     },
     "metadata": {},
     "output_type": "display_data"
    },
    {
     "data": {
      "application/vnd.jupyter.widget-view+json": {
       "model_id": "c865c12856604ce987d1a3a09c1f00fe",
       "version_major": 2,
       "version_minor": 0
      },
      "text/plain": [
       "  0%|          | 0/231 [00:00<?, ?it/s]"
      ]
     },
     "metadata": {},
     "output_type": "display_data"
    },
    {
     "data": {
      "application/vnd.jupyter.widget-view+json": {
       "model_id": "1c82a6311ba14c7785bad73ca098184a",
       "version_major": 2,
       "version_minor": 0
      },
      "text/plain": [
       "  0%|          | 0/231 [00:00<?, ?it/s]"
      ]
     },
     "metadata": {},
     "output_type": "display_data"
    },
    {
     "data": {
      "application/vnd.jupyter.widget-view+json": {
       "model_id": "a31cc6bb9984463aa802951a05dfe712",
       "version_major": 2,
       "version_minor": 0
      },
      "text/plain": [
       "  0%|          | 0/231 [00:00<?, ?it/s]"
      ]
     },
     "metadata": {},
     "output_type": "display_data"
    },
    {
     "data": {
      "application/vnd.jupyter.widget-view+json": {
       "model_id": "15e089b239204fb3951cb96048eeeb51",
       "version_major": 2,
       "version_minor": 0
      },
      "text/plain": [
       "  0%|          | 0/231 [00:00<?, ?it/s]"
      ]
     },
     "metadata": {},
     "output_type": "display_data"
    },
    {
     "data": {
      "application/vnd.jupyter.widget-view+json": {
       "model_id": "f79595ff245c4d7eaceaabd60c88403a",
       "version_major": 2,
       "version_minor": 0
      },
      "text/plain": [
       "  0%|          | 0/231 [00:00<?, ?it/s]"
      ]
     },
     "metadata": {},
     "output_type": "display_data"
    },
    {
     "data": {
      "application/vnd.jupyter.widget-view+json": {
       "model_id": "c13944c1e8a2451e9cbd012c4a173af0",
       "version_major": 2,
       "version_minor": 0
      },
      "text/plain": [
       "  0%|          | 0/231 [00:00<?, ?it/s]"
      ]
     },
     "metadata": {},
     "output_type": "display_data"
    },
    {
     "data": {
      "application/vnd.jupyter.widget-view+json": {
       "model_id": "9c6b2894936a4264a385a2ee10bb8544",
       "version_major": 2,
       "version_minor": 0
      },
      "text/plain": [
       "  0%|          | 0/231 [00:00<?, ?it/s]"
      ]
     },
     "metadata": {},
     "output_type": "display_data"
    },
    {
     "data": {
      "application/vnd.jupyter.widget-view+json": {
       "model_id": "e18f0dbc3ee14137b1657e126f5dc16d",
       "version_major": 2,
       "version_minor": 0
      },
      "text/plain": [
       "  0%|          | 0/231 [00:00<?, ?it/s]"
      ]
     },
     "metadata": {},
     "output_type": "display_data"
    },
    {
     "data": {
      "application/vnd.jupyter.widget-view+json": {
       "model_id": "f35bcd862a864d94b07b5e30f687eaaa",
       "version_major": 2,
       "version_minor": 0
      },
      "text/plain": [
       "  0%|          | 0/231 [00:00<?, ?it/s]"
      ]
     },
     "metadata": {},
     "output_type": "display_data"
    },
    {
     "data": {
      "application/vnd.jupyter.widget-view+json": {
       "model_id": "885b92fa31ec4d9db5b7bc1064e27aca",
       "version_major": 2,
       "version_minor": 0
      },
      "text/plain": [
       "  0%|          | 0/231 [00:00<?, ?it/s]"
      ]
     },
     "metadata": {},
     "output_type": "display_data"
    },
    {
     "data": {
      "application/vnd.jupyter.widget-view+json": {
       "model_id": "1b431c74776840f2bdd661278cee1663",
       "version_major": 2,
       "version_minor": 0
      },
      "text/plain": [
       "  0%|          | 0/231 [00:00<?, ?it/s]"
      ]
     },
     "metadata": {},
     "output_type": "display_data"
    },
    {
     "data": {
      "application/vnd.jupyter.widget-view+json": {
       "model_id": "b705eaf551d44c2f91a0d50d4a4f60f1",
       "version_major": 2,
       "version_minor": 0
      },
      "text/plain": [
       "  0%|          | 0/231 [00:00<?, ?it/s]"
      ]
     },
     "metadata": {},
     "output_type": "display_data"
    },
    {
     "data": {
      "application/vnd.jupyter.widget-view+json": {
       "model_id": "288acb96e1e1455ba80a3fc627fc1b49",
       "version_major": 2,
       "version_minor": 0
      },
      "text/plain": [
       "  0%|          | 0/231 [00:00<?, ?it/s]"
      ]
     },
     "metadata": {},
     "output_type": "display_data"
    },
    {
     "data": {
      "application/vnd.jupyter.widget-view+json": {
       "model_id": "0500e1182dc346608115704cdd25b8d0",
       "version_major": 2,
       "version_minor": 0
      },
      "text/plain": [
       "  0%|          | 0/231 [00:00<?, ?it/s]"
      ]
     },
     "metadata": {},
     "output_type": "display_data"
    },
    {
     "data": {
      "application/vnd.jupyter.widget-view+json": {
       "model_id": "c04c0def5995438ea2cfe9b6c0ae63bd",
       "version_major": 2,
       "version_minor": 0
      },
      "text/plain": [
       "  0%|          | 0/231 [00:00<?, ?it/s]"
      ]
     },
     "metadata": {},
     "output_type": "display_data"
    },
    {
     "data": {
      "application/vnd.jupyter.widget-view+json": {
       "model_id": "dadcba55ebcf4fe48ed11f21fe0f1651",
       "version_major": 2,
       "version_minor": 0
      },
      "text/plain": [
       "  0%|          | 0/231 [00:00<?, ?it/s]"
      ]
     },
     "metadata": {},
     "output_type": "display_data"
    },
    {
     "data": {
      "application/vnd.jupyter.widget-view+json": {
       "model_id": "4eaedcf546ad4a41b5ebb9a2a47483ff",
       "version_major": 2,
       "version_minor": 0
      },
      "text/plain": [
       "  0%|          | 0/231 [00:00<?, ?it/s]"
      ]
     },
     "metadata": {},
     "output_type": "display_data"
    },
    {
     "data": {
      "application/vnd.jupyter.widget-view+json": {
       "model_id": "23c35e6f56464ee7a9a217459f7e7d81",
       "version_major": 2,
       "version_minor": 0
      },
      "text/plain": [
       "  0%|          | 0/1 [00:00<?, ?it/s]"
      ]
     },
     "metadata": {},
     "output_type": "display_data"
    }
   ],
   "source": [
    "token, chat_id = !pass show programacion/telegram_bot\n",
    "\n",
    "## simulating the system for each initial condition and parameter pairs\n",
    "for initial_X, initial_Y in tqdm(initial_values, token=token, chat_id=chat_id):\n",
    "    data = np.zeros(shape=(len(parameters), 2, number_simulations, steps+1))\n",
    "    parameter_pair = 0\n",
    "    for i, j in tqdm(parameters, token=token, chat_id=chat_id):\n",
    "        model = ds.brusselator(alfa=i, beta=j, sigma=0.05, X0=initial_X, Y0=initial_Y, t_stop=70, k=steps)\n",
    "        dynamics = model.run_simulation(number_simulations)\n",
    "        simulations = np.array([dynamics[1], dynamics[2]])\n",
    "        data[parameter_pair] = simulations\n",
    "        parameter_pair += 1\n",
    "        sleep(0.1)\n",
    "\n",
    "    ## obtaining correlation matrices for each initial condition\n",
    "    for time in sampled_times:\n",
    "        for p in range(len(parameters)):\n",
    "            correlation_matrices[matrix_number] = np.corrcoef(data[p, :, :, time])\n",
    "            matrix_number += 1\n",
    "\n",
    "    savetitle = \"/home/dynamix/datasets/timeseries_X{}_Y{}\".format(initial_X, initial_Y)\n",
    "    np.savez(savetitle, data)\n",
    "\n",
    "done = [i for i in tqdm(range(1), token=token, chat_id=chat_id)]"
   ]
  },
  {
   "cell_type": "markdown",
   "id": "7d4fa240-587f-457c-8fbe-5278e2681846",
   "metadata": {},
   "source": [
    "# DATA LABELS AND SAVING CORRELATION MATRICES DATABASE"
   ]
  },
  {
   "cell_type": "code",
   "execution_count": 5,
   "id": "e0d6f11c-247a-4e90-b0af-ccb590caff0e",
   "metadata": {},
   "outputs": [],
   "source": [
    "## initial values labels in the order of simulation generation\n",
    "initial_values_labels = np.zeros(shape=(number_matrices*len(parameters)*len(initial_values), 2))\n",
    "\n",
    "counter = 0\n",
    "for initial_value in initial_values:\n",
    "    for k in range(number_matrices*len(parameters)):\n",
    "        initial_values_labels[counter] = initial_value\n",
    "        counter += 1\n",
    "        \n",
    "## parameter labels in the order initial values\n",
    "parameter_labels = np.zeros(shape=(len(initial_values)*number_matrices, len(parameters), 2))\n",
    "\n",
    "for k in range(len(initial_values)*number_matrices):\n",
    "    parameter_labels[k] = parameters\n",
    "    \n",
    "parameter_labels = np.concatenate(parameter_labels)"
   ]
  },
  {
   "cell_type": "code",
   "execution_count": 6,
   "id": "21cfc348-24b7-46a1-b8f7-fa29073b59b2",
   "metadata": {},
   "outputs": [
    {
     "name": "stdout",
     "output_type": "stream",
     "text": [
      "(11550000, 2)\n",
      "[[0. 0.]\n",
      " [0. 0.]\n",
      " [0. 0.]\n",
      " ...\n",
      " [0. 0.]\n",
      " [0. 0.]\n",
      " [1. 0.]]\n",
      "(11550000, 2)\n",
      "[[ 1.   1. ]\n",
      " [ 1.   1.2]\n",
      " [ 1.   1.4]\n",
      " ...\n",
      " [ 3.  10.8]\n",
      " [ 3.  11. ]\n",
      " [ 1.   1. ]]\n"
     ]
    }
   ],
   "source": [
    "print(initial_values_labels.shape)\n",
    "print(initial_values_labels[:462000+1])\n",
    "print(parameter_labels.shape)\n",
    "print(parameter_labels[:462000+1])"
   ]
  },
  {
   "cell_type": "code",
   "execution_count": 8,
   "id": "14031b2b-3a3b-48d8-a699-bd1a482c0309",
   "metadata": {},
   "outputs": [],
   "source": [
    "savetitle = \"/home/dynamix/datasets/correlations\"\n",
    "np.savez(savetitle, correlation_matrices=correlation_matrices, ab_labels=parameter_labels, xy_labels=initial_values_labels)"
   ]
  },
  {
   "cell_type": "code",
   "execution_count": 10,
   "id": "910bc0c1-a4df-4b5e-bad9-c3ce0b18c7f5",
   "metadata": {},
   "outputs": [
    {
     "data": {
      "text/plain": [
       "array([[[ 1.        , -0.85012452],\n",
       "        [-0.85012452,  1.        ]],\n",
       "\n",
       "       [[ 1.        , -0.72690158],\n",
       "        [-0.72690158,  1.        ]],\n",
       "\n",
       "       [[ 1.        , -0.77185214],\n",
       "        [-0.77185214,  1.        ]],\n",
       "\n",
       "       ...,\n",
       "\n",
       "       [[ 1.        , -0.91009779],\n",
       "        [-0.91009779,  1.        ]],\n",
       "\n",
       "       [[ 1.        , -0.84650716],\n",
       "        [-0.84650716,  1.        ]],\n",
       "\n",
       "       [[ 1.        , -0.85564404],\n",
       "        [-0.85564404,  1.        ]]])"
      ]
     },
     "execution_count": 10,
     "metadata": {},
     "output_type": "execute_result"
    }
   ],
   "source": [
    "correlation_matrices[:2000], parameter_labels[:2000], initial_values_labelsL"
   ]
  }
 ],
 "metadata": {
  "kernelspec": {
   "display_name": "Python 3 (ipykernel)",
   "language": "python",
   "name": "python3"
  },
  "language_info": {
   "codemirror_mode": {
    "name": "ipython",
    "version": 3
   },
   "file_extension": ".py",
   "mimetype": "text/x-python",
   "name": "python",
   "nbconvert_exporter": "python",
   "pygments_lexer": "ipython3",
   "version": "3.11.5"
  }
 },
 "nbformat": 4,
 "nbformat_minor": 5
}
