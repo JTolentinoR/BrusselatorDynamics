{
 "cells": [
  {
   "cell_type": "code",
   "execution_count": 1,
   "id": "51e14fc8",
   "metadata": {},
   "outputs": [],
   "source": [
    "import numpy as np\n",
    "import matplotlib.pyplot as plt\n",
    "\n",
    "plt.rcParams['text.usetex'] = True"
   ]
  },
  {
   "cell_type": "markdown",
   "id": "ecfd6d61",
   "metadata": {},
   "source": [
    "# SDE for the coupled Brusselator with scalar white noise process\n",
    "\n",
    "\\begin{cases}\n",
    "dX_t = \\left[\\alpha - (1+\\beta)X_t + X_t^2Y_t\\right]dt - \\left[\\sigma X_t\\right]dW_t \\\\\n",
    "dY_t = \\left[\\beta X_t - X_t^2Y_t\\right]dt + \\left[\\sigma X_t\\right]dW_t\n",
    "\\end{cases}"
   ]
  },
  {
   "cell_type": "code",
   "execution_count": 3,
   "id": "46c27a95",
   "metadata": {},
   "outputs": [],
   "source": [
    "class brusselator:\n",
    "    def __init__(self, alfa, beta, sigma, X0, Y0, t_stop, k):\n",
    "        ## constants\n",
    "        self.alfa = alfa\n",
    "        self.beta = beta\n",
    "        self.sigma = sigma\n",
    "\n",
    "        ## initial conditions\n",
    "        self.X0 = X0\n",
    "        self.Y0 = Y0\n",
    "        \n",
    "        ## time steps\n",
    "        self.t_stop = t_stop\n",
    "        self.k = k\n",
    "        self.delta = t_stop/k\n",
    "\n",
    "        \n",
    "        \n",
    "    ### N: number of simulations to execute\n",
    "    ### steps: vector containing timesteps\n",
    "    ### XY_processes: matrices containing XY processes of each simulation\n",
    "    def run_simulation(self, N):\n",
    "        steps = np.arange(stop=self.t_stop + self.delta, step=self.delta)\n",
    "        X_processes = np.zeros((N, self.k+1))\n",
    "        Y_processes = np.zeros((N, self.k+1))\n",
    "\n",
    "        for j in range(N):\n",
    "            X, Y = np.zeros(self.k+1), np.zeros(self.k+1)\n",
    "            X[0], Y[0] = self.X0, self.Y0\n",
    "            \n",
    "            for i in range(1, self.k+1):\n",
    "                a1 = self.alfa - (1+self.beta)*X[i-1] + np.square(X[i-1])*Y[i-1]\n",
    "                a2 = self.beta*X[i-1] - np.square(X[i-1])*Y[i-1]\n",
    "                b = self.sigma*X[i-1]\n",
    "                dW = np.random.normal(loc=0.0, scale=np.sqrt(self.delta))\n",
    "                \n",
    "                X[i] = X[i-1] + a1*self.delta - b*dW\n",
    "                Y[i] = Y[i-1] + a2*self.delta + b*dW\n",
    "            X_processes[j,:] = X\n",
    "            Y_processes[j,:] = Y\n",
    "\n",
    "        return steps, X_processes, Y_processes\n",
    "\n",
    "    \n",
    "    def plot_parametric(self, simulation):\n",
    "        title = \"$\\\\alpha = {}$, $\\\\beta = {}$, $\\\\sigma = {}$, $X_0 = {}$, $Y_0 = {}$\"\n",
    "        fig, ax = plt.subplots(figsize=(18, 9), layout=\"constrained\")\n",
    "        ax.set_title(title.format(self.alfa, self.beta, self.sigma, self.X0, self.Y0))\n",
    "        ax.set_xlabel(\"$X(t)$\")\n",
    "        ax.set_ylabel(\"$Y(t)$\")\n",
    "        ax.plot(simulation[1].T, simulation[2].T, linewidth=1)\n",
    "        plt.savefig(\"./plots/a{}_b{}_x{}_y{}_parametric.jpg\".format(self.alfa, self.beta, self.X0, self.Y0))\n",
    "        plt.close()\n",
    "        \n",
    "    def plot_concentrations(self, simulation):\n",
    "        title = \"$\\\\alpha = {}$, $\\\\beta = {}$, $\\\\sigma = {}$, $X_0 = {}$, $Y_0 = {}$\"\n",
    "        fig, ax = plt.subplots(figsize=(18, 9), layout=\"constrained\")\n",
    "        ax.set_title(title.format(self.alfa, self.beta, self.sigma, self.X0, self.Y0))\n",
    "        ax.set_xlabel(\"$t$\")\n",
    "        ax.set_ylabel(\"$X(t)$, $Y(t)$\")\n",
    "        ax.plot(simulation[0].T, simulation[1].T, linewidth=1, label=\"$X(t)$\")\n",
    "        ax.plot(simulation[0].T, simulation[2].T, linewidth=1, label=\"$Y(t)$\")\n",
    "        plt.legend()\n",
    "        plt.savefig(\"./plots/a{}_b{}_x{}_y{}_concentrations.jpg\".format(self.alfa, self.beta, self.X0, self.Y0))\n",
    "        plt.close()"
   ]
  }
 ],
 "metadata": {
  "kernelspec": {
   "display_name": "Python 3 (ipykernel)",
   "language": "python",
   "name": "python3"
  },
  "language_info": {
   "codemirror_mode": {
    "name": "ipython",
    "version": 3
   },
   "file_extension": ".py",
   "mimetype": "text/x-python",
   "name": "python",
   "nbconvert_exporter": "python",
   "pygments_lexer": "ipython3",
   "version": "3.11.5"
  }
 },
 "nbformat": 4,
 "nbformat_minor": 5
}
